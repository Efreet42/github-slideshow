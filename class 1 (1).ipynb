{
 "cells": [
  {
   "cell_type": "markdown",
   "metadata": {},
   "source": [
    "# Session 0 准备工作\n",
    "\n",
    "## Section 0.1  编码规范"
   ]
  },
  {
   "cell_type": "code",
   "execution_count": null,
   "metadata": {
    "collapsed": true
   },
   "outputs": [],
   "source": [
    "\n",
    "\n",
    "\n",
    "#这是一条单行注释，该行写在井号键后面的文字均是注释，注释不会被解释器实际执行，只用于帮助人们理解代码\n",
    "\n",
    "\"\"\"\n",
    "这是一条很长很长\n",
    "很长很长\n",
    "并且可以换行\n",
    "的多行注释\n",
    "\"\"\"\n",
    "#所有写在python代码中的符号均是英文符号，严禁出现中文的 冒号： 引号“  句号。  逗号， 等等"
   ]
  },
  {
   "cell_type": "markdown",
   "metadata": {},
   "source": [
    "## Section 0.2 获取帮助\n",
    "1. Jupyter Notebook 帮助获取\n",
    "2. Python帮助获取\n",
    "3. 从报错中吸取经验"
   ]
  },
  {
   "cell_type": "markdown",
   "metadata": {},
   "source": [
    "##  Section 0.3 工作目录的获取与更改"
   ]
  },
  {
   "cell_type": "code",
   "execution_count": null,
   "metadata": {},
   "outputs": [],
   "source": [
    "from IPython.core.interactiveshell import InteractiveShell\n",
    "InteractiveShell.ast_node_interactivity = \"all\"#让一个cell可以同时输出多个语句的output\n",
    "\n",
    "import os\n",
    "\n",
    "path = \"G:/百度云同步盘/working/teaching/Python/class\"\n",
    "os.chdir(path)  #改变目录到指定目录\n",
    "os.getcwd()  #显示当前目录\n",
    "os.listdir()  #指定当前目录下所有的文件和目录名"
   ]
  },
  {
   "cell_type": "markdown",
   "metadata": {},
   "source": [
    "# Session 1 输入与输出\n",
    "\n",
    "## Section 1.1 输入"
   ]
  },
  {
   "cell_type": "code",
   "execution_count": null,
   "metadata": {
    "collapsed": true
   },
   "outputs": [],
   "source": [
    "\n",
    "\n",
    "name1=input()#让用户输入字符串，并存放到一变量name1里\n",
    "name2=input('Please enter your username:')#提示用户输入字符串，并存放到变量name2里\n",
    "\n"
   ]
  },
  {
   "cell_type": "markdown",
   "metadata": {},
   "source": [
    "# Section 1.2 输出"
   ]
  },
  {
   "cell_type": "code",
   "execution_count": null,
   "metadata": {
    "collapsed": true
   },
   "outputs": [],
   "source": [
    "\n",
    "'''1. print()函数输出你想要的结果，在括号中加上字符串，就可以向屏幕上输出指定的文字'''\n",
    "print('hello, world')\n",
    "\n",
    "'''2. 可以接受多个字符串，用逗号“,”隔开，就可以连成一串输出,\",\"直接打印为空格 '''\n",
    "print('This book', 'is so', 'interesting!')\n",
    "\n",
    "'''3.print()可以直接打印整数或计算结果 '''\n",
    "print(300)\n",
    "print(100 + 400)\n",
    "print('This book cost me',10 + 40,'元')\n",
    "print('This book cost me','10 + 40','元')\n",
    "\n"
   ]
  },
  {
   "cell_type": "markdown",
   "metadata": {
    "collapsed": true
   },
   "source": [
    " 4. print() 格式化输出，使用方式： <br/>\n",
    "一般格式： print（'...格式符1...格式符2...'%（值1，值2）） <br/>\n",
    "\n",
    "\n",
    "|格式符|格式|<br/>\n",
    "|:--|:--:|\n",
    "|%s|    字符串 (采用str()的显示)| <br/>\n",
    "|%r|    字符串 (采用repr()的显示)| <br/>\n",
    "|%c|    单个字符 <br/>\n",
    "|%b|    二进制整数 <br/>\n",
    "|%d|    十进制整数 <br/>\n",
    "|%i|    十进制整数 <br/>\n",
    "|%o|    八进制整数 <br/>\n",
    "|%x |   十六进制整数 <br/>\n",
    "|%e|    指数 (基底写为e) <br/>\n",
    "|%E|    指数 (基底写为E) <br/>\n",
    "|%f|    浮点数 <br/>\n",
    "|%F|    浮点数，与上相同 <br/>\n",
    "|%g|    指数(e)\u0010或浮点数 (根据显示长度) <br/>\n",
    "|%G|    指数(E)或浮点数 (根据显示长度) <br/>"
   ]
  },
  {
   "cell_type": "code",
   "execution_count": null,
   "metadata": {
    "collapsed": true
   },
   "outputs": [],
   "source": [
    "print (\"His name is %s\"%(\"Aviad\"))#打印字符串\n",
    "print (\"He is %d years old\"%(25))#打印整数\n",
    "print (\"His height is %f m\"%(1.83))#打印浮点数\n"
   ]
  },
  {
   "cell_type": "markdown",
   "metadata": {},
   "source": [
    "5.进一步控制格式化输出：\n",
    "\n",
    "%[(name)][flags][width].[precision]typecode\n",
    "\n",
    "(name)为命名，用于字典传递真实值\n",
    "\n",
    "flags可以有+,-,' '或0。+表示右对齐。-表示左对齐。' '为一个空格，表示在正数的左侧填充一个空格，从而与负数对齐。0表示使用0填充。\n",
    "\n",
    "width表示显示宽度\n",
    "\n",
    "precision表示小数点后精度\n",
    "\n",
    "width和precision两个参数是整数，我们可以用*来动态带入这个变量"
   ]
  },
  {
   "cell_type": "code",
   "execution_count": null,
   "metadata": {
    "collapsed": true,
    "scrolled": true
   },
   "outputs": [],
   "source": [
    "print (\"His height is %.2f m\"%(1.8))#打印浮点数（指定保留小数点位数）\n",
    "print (\"Name:%10s Age:%8d Height:%8.2f\"%(\"Aviad\",25,1.83))#指定占位符宽度\n",
    "print (\"Name:%-10s Age:%-8d Height:%-8.2f\"%(\"Aviad\",25,1.83))#指定占位符宽度（左对齐）\n",
    "print (\"Name:%-10s Age:%08d Height:%08.2f\"%(\"Aviad\",25,1.83))#指定占位符（只能用0当占位符？）\n",
    "print (\"I'm %(c)s. I have %(l)d yuan.\n",
    "       \n",
    "        % {'c':'hungry','l':22})#用词典来传递真实值\n",
    "print(\"%.*f\" % (4, 1.2))#用*来动态带入变量precision\n",
    "print('a%*.*fb'%(8,4,1.2))\n",
    "print('a%0*.*fb'%(8,4,1.2))"
   ]
  },
  {
   "cell_type": "markdown",
   "metadata": {},
   "source": [
    "# Session 2: 原子类型数据：整数、浮点数、布尔值、复数、字符串\n",
    "\n",
    "## Session 2.1整数和浮点数及其运算符\n",
    "\n",
    "### Session 2.1.1 整数和浮点数的定义\n",
    "\n",
    "（1）在程序中的表示方法和数学上的写法一模一样 <br/>\n",
    "（2）整数和浮点数在计算机内部存储的方式是不同的，整数运算永远是精确的，而浮点数运算则可能会有四舍五入的误差 <br/>\n",
    "\n",
    "### Session 2.1.2 整数和浮点数的运算符\n",
    "（1）赋值运算符：=，+=，-=,*=,/=,//=,%=,**= <br/>\n",
    "（2）比较运算符：>,<,==,<=,>=,!= <br/>\n",
    "（3）算术运算符:+,-,*,/,//,%,** <br/>\n",
    "运算符级别：算术运算符 > 比较运算符 > 赋值运算符 "
   ]
  },
  {
   "cell_type": "code",
   "execution_count": null,
   "metadata": {
    "collapsed": true
   },
   "outputs": [],
   "source": [
    "# 赋值运算符 =\n",
    "a=5\n",
    "b=2\n",
    "c=2.5\n",
    "print(a,b,c)\n",
    "b=3# 变量可以被重复赋值，变量输出的结果以最近的一次赋值结果为准。\n",
    "print(a,b,c)  \n",
    "\n",
    "# 算术运算符\n",
    "c = 10 / 3   # 四则运算\n",
    "d = (c + b)/a\n",
    "e = b ** 5 + 2  # 次方运算\n",
    "f = e // 4  # 除法取整\n",
    "g = e % 7  # 除法取余\n",
    "print(c,d,e,f,g)\n",
    "\n",
    "#赋值运算符：=与算术运算符相结合\n",
    "b+=a\n",
    "c/=a\n",
    "d**=a\n",
    "print(b,c,d)\n",
    "\n",
    "# 比较运算符\n",
    "\n",
    "print(a > b)  #如果a确实大于b，则print结果为True(真)，否则为False(假)\n",
    "print(a < b)\n",
    "print(a == b)  #双等于号是判断两个变量是否相等，是【比较运算符】。注意区分：单个等于号是将右边的数据赋值给左边的变量，是【赋值运算符】\n",
    "print(a != b) # != 判断是否不相等\n",
    "\n",
    "#True/False 并非数字，而是python中另一种变量类型:布尔值\n",
    "\n",
    "#运算符优先级别\n",
    "\n",
    "a = 18 + 7 > 6  # 该式中的等于号、加号与大于号，执行顺序是：\n",
    "print(a)  # 程序首先计算 18 + 7，再与6进行比较，最后赋值给a\n",
    "\n",
    "# 程序等效于下方式子\n",
    "c = 18 + 7\n",
    "b = c > 6\n",
    "a = b\n",
    "print(a)  "
   ]
  },
  {
   "cell_type": "markdown",
   "metadata": {},
   "source": [
    "## Session 2.2: 字符串及其运算符\n",
    "\n",
    "### Session 2.2.1 字符串的定义\n",
    "（1）使用双引号为边界符，定义字符串内容 <br/>\n",
    "（2）使用单引号为边界符，定义字符串内容 <br/>\n",
    "（3）使用长注释为边界符，定义字符串内容 <br/>\n",
    "（4）使用转义字符\"\\\"消除字符串歧义 <br/>\n",
    "（5）用r''表示''内部的字符串默认不转义 <br/>\n",
    "\n",
    "|转义字符|描述| <br/>\n",
    "|:--|:--:|\n",
    "|\\|(在行尾时)\t续行符| <br/>\n",
    "| \\\\\\\t|反斜杠符号 |<br/>\n",
    "|\\'|\t单引号 <br/>\n",
    "|\\\"|\t双引号 <br/>\n",
    "|\\a|\t响铃 <br/>\n",
    "|\\b|\t退格(Backspace) <br/>\n",
    "|\\e|\t转义 <br/>\n",
    "|\\000|\t空 <br/>\n",
    "|\\n|\t换行 <br/>\n",
    "|\\v|\t纵向制表符 <br/>\n",
    "|\\t|\t横向制表符 <br/>\n",
    "|\\r|\t回车 <br/>\n",
    "|\\f|\t换页 <br/>\n",
    "|\\oyy|\t八进制数，yy代表的字符，例如：\\o12代表换行 <br/>\n",
    "|\\xyy|\t十六进制数，yy代表的字符，例如：\\x0a代表换行 <br/>\n",
    "|\\other|\t其它的字符以普通格式输出 <br/>"
   ]
  },
  {
   "cell_type": "code",
   "execution_count": null,
   "metadata": {
    "collapsed": true
   },
   "outputs": [],
   "source": [
    "stra = \"小明爱喝汽水。\"  \n",
    "strb = '小红也爱喝汽水。' \n",
    "strc = '''wrong\" string' this is red word''' \n",
    "strd =   'I\\'m \\\"OK\\\"!'\n",
    "\n",
    "print(stra)\n",
    "print(strb)\n",
    "print(strc)\n",
    "print(strd)\n",
    "\n",
    "print('\\\\\\t\\\\')\n",
    "print(r'\\\\\\t\\\\')"
   ]
  },
  {
   "cell_type": "markdown",
   "metadata": {},
   "source": [
    "### Session 2.2.2 字符串的截取方式\n",
    "(1)在字符串变量后加 [非负整数N]，该形式表示字符串内第N+1个字符,索引值为N<br/>\n",
    "(2)在字符串变量后加 [负整数-N]，该形式表示字符串内倒数第N个字符，索引值为-N<br/>\n",
    "(3)在字符串变量后加 [整数A:整数B]，表示该字符串从 索引值为A的字符 到 索引值为B-1的字符的子字符串，左闭右开区间<br/>\n",
    "(4)在字符串变量后加 [整数N:]，表示该字符串从 索引值为N的字符到原字符串结尾处的子字符串<br/> \n",
    "(5)在字符串变量后加 [:整数N]，表示该字符串从 原字符串开始处到索引值为N-1的字符的子字符串 <br/>\n",
    "(6)在字符串变量后加 [:]，表示该字符串从原字符串开始处到原字符串结尾处的子字符串<br/>"
   ]
  },
  {
   "cell_type": "code",
   "execution_count": null,
   "metadata": {
    "collapsed": true
   },
   "outputs": [],
   "source": [
    "\n",
    "\n",
    "\n",
    "stra = \"abcdefghi\"  \n",
    "\n",
    "\n",
    "print(stra[2]) \n",
    "print(stra[0],0)\n",
    "print(stra[1],1)\n",
    "print(stra[2],2)\n",
    "print(stra[3],3)\n",
    "print(stra[4],4)\n",
    "print(stra[5],5)\n",
    "\n",
    "print(stra[-1])\n",
    "\n",
    "\n",
    "print(stra[2:4])\n",
    "\n",
    "print(stra[2:]) \n",
    "print(stra[:4]) \n",
    "print(stra[:])  \n"
   ]
  },
  {
   "cell_type": "markdown",
   "metadata": {
    "collapsed": true
   },
   "source": [
    "### Session 2.2.3 字符串的运算符\n",
    "\n",
    "（1）算术运算符： +,*  \n",
    "（2）比较运算符：<,>,==,<=,>=,!=  \n",
    "     比较两个字符串相应位置字符的ASCII码大小  \n",
    "（3）逻辑运算符：in  \n",
    "（4）字符串查找： find,index, refind, reindex"
   ]
  },
  {
   "cell_type": "code",
   "execution_count": null,
   "metadata": {
    "collapsed": true
   },
   "outputs": [],
   "source": [
    "stra = \"abac\"\n",
    "strb = \"def\"\n",
    "print(stra + strb) # 两个字符串相连\n",
    "print(2 * stra) # 字符串重复以相应倍数\n",
    "print(\"abc\" < \"cba\") # 逐个比较两个字符串相应位置字符的ASCII码大小\n",
    "print(\"abc\" == \"cba\") # 比较两个字符串的内容是否相同\n",
    "print(\"a\"<\"A\")\n",
    "print(\"ab\"<\"A\")\n",
    "print(\"ab\" in \"abc\") \n",
    "stra.find('a')\n",
    "stra.find('c')\n",
    "stra.rfind('a')\n",
    "stra.rfind('c')\n",
    "stra.index('a')\n",
    "stra.index('c')\n",
    "stra.rindex('a')\n",
    "stra.rindex('c')"
   ]
  },
  {
   "cell_type": "markdown",
   "metadata": {},
   "source": [
    "## Session 2.3 布尔值\n",
    "\n",
    "（1）布尔值只有True、False两种值，可以直接用True、False表示布尔值（请注意大小写），也可以通过布尔运算计算出来。<br/>\n",
    "（2）运算符：and, or, not<br/>"
   ]
  },
  {
   "cell_type": "code",
   "execution_count": null,
   "metadata": {
    "collapsed": true
   },
   "outputs": [],
   "source": [
    "True\n",
    "False\n",
    "3>2\n",
    "3<2\n",
    "print(True and False)\n",
    "print(True or False)\n",
    "print(True or False or False)\n",
    "print(not True)"
   ]
  },
  {
   "cell_type": "markdown",
   "metadata": {},
   "source": [
    "## 2.4 数据类型的转换与检测\n",
    "转换函数：int(), float(),str(),bool<br/>\n",
    "检测：isinstance(object, classinfo),如果对象的类型与classinfo的类型（classinfo）相同则返回 True，否则返回 False。<br/>"
   ]
  },
  {
   "cell_type": "code",
   "execution_count": null,
   "metadata": {
    "collapsed": true
   },
   "outputs": [],
   "source": [
    "a=2\n",
    "print(type(a))\n",
    "b=1.2\n",
    "print(type(b))\n",
    "c='hi'\n",
    "print(type(c))\n",
    "d='250'\n",
    "print(type(d))\n",
    "e=int(d)\n",
    "print(type(d))\n",
    "isinstance(a,int)"
   ]
  },
  {
   "cell_type": "markdown",
   "metadata": {},
   "source": [
    "# Session 3: 流程控制结构\n",
    "\n",
    "## Session 3.1: 条件判断\n",
    "(1) if <条件判断>：<br\\>\n",
    "  &emsp;&emsp;   <执行> <br\\>\n",
    "(2) if <条件判断1>:<br\\>\n",
    " &emsp;&emsp;     <执行1><br\\>\n",
    "  &emsp;  else:<br\\>\n",
    " &emsp;&emsp;   <执行2><br\\>\n",
    "(3) if <条件判断1>:<br\\>\n",
    " &emsp;&emsp;  <执行1><br\\>\n",
    "  &emsp;  elif <条件判断2>:<br\\>\n",
    " &emsp;&emsp;  <执行2><br\\>\n",
    "  &emsp;  else:<br\\>\n",
    " &emsp;&emsp;  <执行3><br\\>\n",
    "注意： (1) 语句中以有多个 elif<br\\>\n",
    "   &emsp;&emsp; &emsp;(2) if 语句执行有个特点，它是从上往下判断，如果在某个判断上是True，把该判断对应的语句执行后，就忽略掉剩下的elif和else\n",
    "     \n"
   ]
  },
  {
   "cell_type": "code",
   "execution_count": null,
   "metadata": {
    "collapsed": true
   },
   "outputs": [],
   "source": [
    "age = 20\n",
    "if age >= 6:\n",
    "    print('teenager')\n",
    "elif age >= 18:\n",
    "    print('adult')\n",
    "else:\n",
    "    print('kid')"
   ]
  },
  {
   "cell_type": "markdown",
   "metadata": {},
   "source": [
    "**Exercise 1:** 学校的成绩现分为五个档次：优秀（score≥90）、良好（80≤score<90）、一般（70≤score<80）、及格（60≤score<70）和不及格（score<60）,\n",
    "            请编程实现读入小明的成绩，并输出该成绩的评定结果"
   ]
  },
  {
   "cell_type": "markdown",
   "metadata": {},
   "source": [
    "## Session 3.2: 循环结构\n",
    "\n",
    "(1) for i in object:<br\\>\n",
    "  &emsp; &emsp;    <执行><br\\>\n",
    "   算子i遍历变量object里面的元素，object可以是字符串、列表、字典、元祖等。循环体的每一次执行，算子i都以本次被赋予的值出现，循环体一直执行到所有元素被遍历(赋予i)完毕。<br\\>\n",
    "(2) while <条件判断>：<br\\>\n",
    "     &emsp;&emsp;&emsp; &emsp;<执行><br\\>\n",
    "   只要条件满足，就不断循环，条件不满足时退出循环。<br\\>\n",
    "(3) 跳出循环<br\\>\n",
    "    &emsp;&emsp;a. break: 提前退出循环<br\\>\n",
    "    &emsp;&emsp;b. continue: 跳过当前的这次循环，直接开始下一次循环<br\\>"
   ]
  },
  {
   "cell_type": "code",
   "execution_count": null,
   "metadata": {
    "collapsed": true
   },
   "outputs": [],
   "source": [
    "#例3.2.1\n",
    "names = ['Michael', 'Bob', 'Tracy']\n",
    "for name in names:\n",
    "    print(name)\n",
    "\n",
    "#例3.2.2：计算1-100的整数之和\n",
    "sum = 0\n",
    "for x in range(1,101):\n",
    "    sum += x\n",
    "print(sum)\n",
    "\n",
    "#例3.2.3：计算100以内所有奇数之和\n",
    "sum = 0\n",
    "n = 99\n",
    "while n > 0:\n",
    "    sum = sum + n\n",
    "    n = n - 2\n",
    "print(sum)\n",
    "\n",
    "#例 3.2.4\n",
    "n = 1\n",
    "while n <= 100:\n",
    "    if n > 10: # 当n = 11时，条件满足，执行break语句\n",
    "        break # break语句会结束当前循环\n",
    "    print(n)\n",
    "    n = n + 1\n",
    "print('END')\n",
    "#例 3.2.5\n",
    "n = 0\n",
    "while n < 10:\n",
    "    n = n + 1\n",
    "    if n % 2 == 0: # 如果n是偶数，执行continue语句\n",
    "        continue # continue语句会直接继续下一轮循环，后续的print()语句不会执行\n",
    "    print(n)"
   ]
  },
  {
   "cell_type": "markdown",
   "metadata": {},
   "source": [
    "**Exercise 2:** 计算 2+4+6+...+100 的结果<br\\>\n",
    "**Exercise 3:** 输出字符串\"abavCnoasncinaovnovanova\"中a、b、c一共出现的次数<br\\>\n",
    "**Exercise 4:** sum(N) = 1+……+N，计算N等于多少时，sum(N)开始大于5000<br\\>\n",
    "**Exercise 5:** 树上有100颗苹果，从第1天开始计算，第N天摘N颗苹果，现通过程序判断第几天苹果树的苹果不够摘<br\\>\n"
   ]
  },
  {
   "cell_type": "markdown",
   "metadata": {},
   "source": [
    "# Session 4: 结构类型数据及其运算符\n",
    "\n",
    "## Session 4.1 列表\n",
    "(1)定义： [元素1,元素2,....]<br\\>\n",
    "(2)截取：list[N],list[N1:N2],list[:N2], list[N1:],list[]<br\\>\n",
    "(3)运算符<br\\>\n",
    " &emsp;   a.算术运算符：+,*<br\\>\n",
    "  &emsp;    b.比较运算符: <,>,>=,<=,==,!=v\n",
    "   &emsp;   c.逻辑运算符: in<br\\>\n",
    "(4)追加元素：list.append(元素)，list.extend(元素)<br\\>\n",
    "(5)插入元素：list.insert(N,element)，将element插入到索引为N的地方<br\\>\n",
    "(6)删除元素：list.pop(N),删除索引为N的元素<br\\>\n",
    "    &emsp;  &emsp;  &emsp;  &emsp;  &emsp;       list.remove(元素)，删除第一个匹配到的元素<br\\>\n",
    " 注：一个列表中的元素的类型可以不同<br\\>"
   ]
  },
  {
   "cell_type": "code",
   "execution_count": null,
   "metadata": {
    "collapsed": true
   },
   "outputs": [],
   "source": [
    "lista = [3,1,4,1,5,9,2,6]  # 列表是一群变量的有序集合，这个有序集合叫做列表，集合中的每一个变量叫做列表的元素，列表也是一种数据类型。\n",
    "                        #列表以中括号作为标识符，元素与元素之间使用逗号隔开\n",
    "empty_lista = []  # 定义一个空列表\n",
    "listb = [\"阿呆\",\"男\",24,[\"有车有房\",\"家里有矿\",\"初入情场\"]] # 列表特点1：列表中的元素并不一定需要类型相同，它们可以是不同的数据类型，甚至可以是另一个子列表\n",
    "\n",
    "print(lista[2])  #列表特点2： 列表是有序的\n",
    "print(lista[2:4])  #列表拥有与字符串完全相同的截取方式，通过该种借助索引的切片方式，可以得到相应子列表\n",
    "print(lista[2:])\n",
    "print(lista[:2])  #切片的两个数字，有任意一端为空，则默认为一直延续到列表/字符串的开头/结尾\n",
    "\n",
    "lista[1] = 90  #列表特点3： 列表内的元素是可以被修改的\n",
    "print(lista)\n",
    "\n",
    "a = [1,2,3]\n",
    "b = a[:]  #通过切片的方式获得列表a的全部内容，并赋值给b\n",
    "c = a  #仅通过名称将a的内容赋值给c\n",
    "\n",
    "print(b,c)\n",
    "\n",
    "a[1] = 8\n",
    "print(a,b,c)    #通过切片的方式赋值，实际上是开辟了一块新的内存用来存放一模一样的数据，通过呼叫名称的方式，仅仅是将变量c指向了变量a存储的数据位置，因此当我们修改a的值，则列表b没有影响，而c改变了。\n",
    "\n",
    "lista.append(a)\n",
    "print(lista)\n",
    "lista.extend(a)\n",
    "print(lista)\n",
    "lista.insert(2,'hi')\n",
    "print(lista)\n",
    "lista.pop(8)\n",
    "print(lista)\n",
    "lista.remove('hi')\n",
    "print(lista)"
   ]
  },
  {
   "cell_type": "markdown",
   "metadata": {},
   "source": [
    "## Session 4.2: 字典\n",
    "(1)定义：{key1:value1,key2:value2,...}<br\\>\n",
    "(2)key是不可变对象，可以是字符串或者数值;元素内容可以修改<br\\>\n",
    "(3)字典的键值对是无序的<br\\>\n",
    "(4)可以通过设定新键并赋值<br\\>\n",
    "(5)索引：dict[key]<br\\>\n",
    "(6)删除键值对：dict.pop(key)<br\\>\n",
    "  &emsp; 逻辑运算：key in dict<br\\>\n",
    "   &emsp;  获取键值：dict.get(key)<br\\>"
   ]
  },
  {
   "cell_type": "code",
   "execution_count": null,
   "metadata": {
    "collapsed": true
   },
   "outputs": [],
   "source": [
    "dicta = {\"key\":42,'a':1,'b':4}  # 字典是 键值对 的 可修改 无序 集合，标识符是大括号{}。在字典中，键是唯一的，值可以不唯一，\n",
    "                    #字典变量  就像我们使用目录去查找内容，“目录”就是键，“内容”就是值\n",
    "\n",
    "empty_dicta = {}  # 定义一个空字典\n",
    "\n",
    "dictb = {\"中国\":\"北京\",\"美国\":\"华盛顿\",7:9,0:{\"宇宙的终极答案是\":42}}  #字典特点1：字典的键（只）可以是字符串或者数值，值则不受限制，可以为任何对象，甚至是另一个字典\n",
    "print(dictb[7])                    #字典特点2：字典是无序的，它没有索引值\n",
    "\n",
    "print(dictb[\"中国\"])  #字典通过在方括号内输入相应的键来得到对应的值。\n",
    "print(dictb[7])\n",
    "\n",
    "\n",
    "dictb[7] = 6    #字典特点3：字典可以被修改\n",
    "dictb[\"新增\"] = \"新值\"  #字典可以便利地新增键值对（这也是一种修改）\n",
    "print(dictb)\n",
    "\"中国\" in dictb\n",
    "dictb.pop(\"中国\")\n",
    "dictb.get(\"美国\")\n",
    "for k in dictb:\n",
    "    print(k,dictb[k])"
   ]
  },
  {
   "cell_type": "markdown",
   "metadata": {
    "collapsed": true
   },
   "source": [
    "**Exercise 6:** 给定列表a= [1,2,3,4,5,6,5,4,3,2,1,0]，生成一个新列表，新列表的每个元素是a列表对应元素以及前后两个元素的和。<br/>\n",
    "**Exercise 7:** 给定字典dictb = {\"A\":1,\"B\":2,\"C\":3,\"D\":1,\"E\":2,\"F\":3,\"G\":1,\"H\":2,\"I\":3,\"J\":1,\"K\":2,\"L\":3,\"M\":1,\"N\":2,\"O\":3,\"P\":1,\"Q\":2}，生成若干个对应的列表，将value相同的key归为一个列表里面。"
   ]
  },
  {
   "cell_type": "markdown",
   "metadata": {},
   "source": [
    "## Session4.3 元组 tuple\n",
    "(1)定义：(元素1,元素2,...)<br\\>\n",
    "  &emsp;  tuple和list非常类似，但是tuple一旦初始化就不能修改"
   ]
  },
  {
   "cell_type": "code",
   "execution_count": null,
   "metadata": {
    "collapsed": true
   },
   "outputs": [],
   "source": [
    "t = (1,)\n",
    "t = (1)#括号()既可以表示tuple，又可以表示数学公式中的小括号,因此，Python规定只有1个元素的tuple定义时必须加一个逗号,，来消除歧义\n",
    "t = ('a', 'b', ['A', 'B'])\n",
    "t[2][0] = 'X'\n",
    "t[2][1] = 'Y'"
   ]
  },
  {
   "cell_type": "markdown",
   "metadata": {},
   "source": [
    "## Session 4.4 集合 set\n",
    "\n",
    "(1)set和dict类似，也是一组key的集合，但不存储value。由于key不能重复，所以，在set中，没有重复的key。<br\\>\n",
    "(2)要创建一个set，需要提供一个list作为输入集合<br\\>\n",
    "(3)重复元素在set中自动被过滤<br\\>\n",
    "(4)添加元素：s.add(key)<br\\>\n",
    "(5)删除元素：s.remove(key)<br\\>\n",
    "(6)运算法则：交集：s1&s2<br\\>\n",
    " &emsp; &emsp; &emsp; &emsp; &emsp;并集: s1 | s2<br\\>"
   ]
  },
  {
   "cell_type": "code",
   "execution_count": null,
   "metadata": {
    "collapsed": true
   },
   "outputs": [],
   "source": [
    "s1 = set([1, 2, 3])\n",
    "s1\n",
    "s2 = set([1, 1, 2, 2, 3, 3])\n",
    "s2\n",
    "s1.add(5)\n",
    "s1\n",
    "s1.remove(5)\n",
    "s1\n",
    "s3=set([2,3,6,7])\n",
    "s1&s3\n",
    "s1|s3"
   ]
  },
  {
   "attachments": {
    "image.png": {
     "image/png": "[encoded data removed]"
    }
   },
   "cell_type": "markdown",
   "metadata": {},
   "source": [
    "# Session 5 函数\n",
    "\n",
    "（1）Python 内置函数<br\\>\n",
    "   &emsp;   需要知道函数的名称和参数，直接调用，如 abs(-100) print(\"hello!\")<br\\>\n",
    "（2）自定义函数<br\\>\n",
    "\n",
    "![image.png](attachment:image.png)\n",
    "\n",
    "（3）空函数 pass"
   ]
  },
  {
   "cell_type": "code",
   "execution_count": null,
   "metadata": {
    "collapsed": true
   },
   "outputs": [],
   "source": [
    "#定义一个函数可以调用多次\n",
    "def f():    \n",
    "    a = 0\n",
    "    for i in range(101):\n",
    "        a += i\n",
    "    return a\n",
    "\n",
    "newname = f()\n",
    "print(newname)\n",
    "\n",
    "#计算指定n的累加和\n",
    "def f2(n):  # 函数也可以有参数\n",
    "    a = 0\n",
    "    for i in range(1,n+1): \n",
    "        a += i \n",
    "    return(a)\n",
    "\n",
    "newname2 = f2(10)\n",
    "print(newname2)\n",
    "\n",
    "#函数可以接收多个参数进行工作，每个参数用逗号隔开\n",
    "def triplesum(a,b,c):   \n",
    "    d = a + b + c + a * b * c\n",
    "    return d\n",
    "\n",
    "result = triplesum(4,5,6)\n",
    "print(result)\n",
    "\n",
    "#函数也不一定需要返回值，例如在本函数中，函数的功能是打印一个更漂亮的字符串，并不需要返回什么\n",
    "def beautifulprint(stra):    \n",
    "    stra_len = len(stra)     \n",
    "    print(\"*\"*(stra_len))\n",
    "    print(stra)\n",
    "    print(\"*\"*(stra_len))\n",
    "\n",
    "    #如果在末尾依旧加入返回关键字return而不带任何数值，则接收到的是None\n",
    "\n",
    "    \n",
    "a = beautifulprint(\"hello\")\n",
    "print(a)\n",
    "\n",
    "#函数可以有多个return关键字，当代码执行到return处时，结果被返回，本次函数执行宣告结束。\n",
    "def many_return(number):\n",
    "    if number < 10:\n",
    "        return False\n",
    "    for i in range(number):\n",
    "        print(i)\n",
    "        if i == 10:\n",
    "            return i\n",
    "\n",
    "\n",
    "\n",
    "\n",
    "many_return(15)"
   ]
  },
  {
   "cell_type": "markdown",
   "metadata": {},
   "source": [
    "**Exercise 8:** 学校的成绩现分为五个档次：优秀（score≥90）、良好（80≤score< 90）、一般（70≤score< 80）、及格（60≤score< 70）和不及格（score< 60）,请输出指定成绩的评定结果,编写一个函数，调用函数时可以返回指定分数的等级 <br\\>\n",
    "**Exercise 9:** 编写一个函数stringfind，该函数接收两个字符串参数，返回第二个字符串在第一个字符串中第一次出现的索引位置，如果第一个字符串并不包含第二个字符串，则返回-1,第二个字符串是单个字符\n"
   ]
  },
  {
   "cell_type": "markdown",
   "metadata": {},
   "source": [
    "## 函数的参数\n",
    "(1) 位置参数：调用函数时，必须传入的参数<br/>\n",
    "(2) 默认参数：<br/>\n",
    "  &emsp; a. 定义形式： fun(参数1，参数2=value)<br/>\n",
    "  &emsp; b. 设定某个参数的默认值，调用函数时，可以传入该参数，也可以忽略。<br/>\n",
    "  &emsp; c. 需在位置参数之后<br/>\n",
    "  &emsp; d. 多个默认参数时，默认参数的提供可以不按顺序来<br/>\n",
    "(3) 可变参数:<br/>\n",
    "  &emsp; a. 传入的参数个数是可变的，可以是1个、2个到任意个，还可以是0个<br/>\n",
    "  &emsp; b. 定义形式：fun(*参数)<br/>\n",
    "(4) 关键字参数<br/>\n",
    "  &emsp; a. 定义形式：fun(**参数)<br/>\n",
    "  &emsp; b. 关键字参数以字典的形式传入<br/>\n",
    "(5) 命名关键字参数<br/>\n",
    "  &emsp; a.如果要限制关键字参数的名字，就可以用命名关键字参数<br/>\n",
    "  &emsp; b.定义形式：fun(参数1，参数2，*，参数3，参数4,...)<br/>\n",
    "    其中*后面的参数就是关键字参数<br/>\n",
    "(6) 参数组合<br/>\n",
    "  &emsp; a.必选参数、默认参数、可变参数、关键字参数和命名关键字参数，这5种参数都可以组合使用<br/>\n",
    "  &emsp; b.参数定义的顺序必须是：必选参数、默认参数、可变参数、命名关键字参数和关键字参数。<br/>"
   ]
  },
  {
   "cell_type": "code",
   "execution_count": null,
   "metadata": {
    "collapsed": true
   },
   "outputs": [],
   "source": [
    "#（1） 位置参数\n",
    "def power1(x,n):\n",
    "    s = 1\n",
    "    while n > 0:\n",
    "        n = n - 1\n",
    "        s = s * x\n",
    "    return s\n",
    "# 对于power1(x,n)函数，参数x,n就是位置参数。\n",
    "power1(5, 3)\n",
    "\n",
    "#(2) 默认参数\n",
    "def power2(x,n=2):\n",
    "    s = 1\n",
    "    while n > 0:\n",
    "        n = n - 1\n",
    "        s = s * x\n",
    "    return s\n",
    "# 对于power2(x,n=2)函数，参数n就是默认参数。\n",
    "\n",
    "power2(5,2)\n",
    "power2(5)\n",
    "\n",
    "#(3) 可变参数 给定一组数字a，b，c……，计算a^2 + b^2 + c^2 + ……\n",
    "\n",
    "def calc(*numbers):\n",
    "    sum = 0\n",
    "    for n in numbers:\n",
    "        sum = sum + n * n\n",
    "    return sum\n",
    "calc(1, 2)\n",
    "#如果有一个list，要调用可变参数应该在list前加*\n",
    "nums = [1, 2, 3]\n",
    "calc(*nums)\n",
    "\n",
    "#（4） 关键字参数\n",
    "def person(name, age, **kw):\n",
    "    print('name:', name, 'age:', age, 'other:', kw)\n",
    "person('Bob', 35, city='Beijing')\n",
    "person('Adam', 45, gender='M', job='Engineer')\n",
    "# 也可以先组装出一个dict，然后，把该dict转换为关键字参数传进去\n",
    "extra = {'city': 'Beijing', 'job': 'Engineer'}\n",
    "person('Jack', 24, city=extra['city'], job=extra['job'])\n",
    "\n",
    "#（5）命名关键字参数\n",
    "def person(name, age, *, city, job):\n",
    "    print(name, age, city, job)\n",
    "person('Jack', 24, city='Beijing', job='Engineer')\n",
    "#person('Jack', 24, city='Beijing', job='Engineer'，gender='M')#输入非关键字的参数，pyhton就会报错\n",
    "\n",
    "#(6)参数组合\n",
    "def f1(a, b, c=0, *args, **kw):\n",
    "    print('a =', a, 'b =', b, 'c =', c, 'args =', args, 'kw =', kw)\n",
    "\n",
    "def f2(a, b, c=0, *, d, **kw):\n",
    "    print('a =', a, 'b =', b, 'c =', c, 'd =', d, 'kw =', kw)\n",
    "f1(1, 2)\n",
    "f1(1, 2, c=3)\n",
    "f1(1, 2, 3, 'a', 'b')\n",
    "f1(1, 2, 3, 'a', 'b', x=99)\n",
    "f2(1, 2, d=99, ext=None)\n",
    "args = (1, 2, 3, 4)\n",
    "kw = {'d': 99, 'x': '#'}\n",
    "f1(*args, **kw)\n",
    "args = (1, 2, 3)\n",
    "kw = {'d': 88, 'x': '#'}"
   ]
  },
  {
   "cell_type": "markdown",
   "metadata": {},
   "source": [
    "**Exercise 10:** 定义一个函数可以接受一个或多个数并计算乘积。"
   ]
  },
  {
   "cell_type": "markdown",
   "metadata": {},
   "source": []
  }
 ],
 "metadata": {
  "kernelspec": {
   "display_name": "Python 3",
   "language": "python",
   "name": "python3"
  },
  "language_info": {
   "codemirror_mode": {
    "name": "ipython",
    "version": 3
   },
   "file_extension": ".py",
   "mimetype": "text/x-python",
   "name": "python",
   "nbconvert_exporter": "python",
   "pygments_lexer": "ipython3",
   "version": "3.6.1"
  }
 },
 "nbformat": 4,
 "nbformat_minor": 2
}
